{
 "cells": [
  {
   "cell_type": "code",
   "execution_count": 1,
   "id": "8b30c05f",
   "metadata": {},
   "outputs": [],
   "source": [
    "import pandas as pd\n",
    "import numpy as np\n",
    "import os"
   ]
  },
  {
   "cell_type": "code",
   "execution_count": 7,
   "id": "f716f6ea",
   "metadata": {},
   "outputs": [
    {
     "name": "stdout",
     "output_type": "stream",
     "text": [
      "                      Order ID Order Date            Ship Date  \\\n",
      "0      AE-2018-EB4110138-41926 2018-10-14  2018-10-14 00:00:00   \n",
      "1      IN-2017-TS2134092-41219 2017-11-06  2017-11-08 00:00:00   \n",
      "2      IN-2017-MB1808592-41378 2017-04-14  2017-04-18 00:00:00   \n",
      "3        AG-2018-CL25653-42164 2018-06-09  2018-06-13 00:00:00   \n",
      "4     CA-2017-AB10015140-40974 2017-03-06  2017-03-07 00:00:00   \n",
      "...                        ...        ...                  ...   \n",
      "7461  ES-2017-BC11125120-41010 2017-04-11  2017-04-15 00:00:00   \n",
      "7462  ZA-2018-TA11385146-41692 2018-02-22  2018-02-27 00:00:00   \n",
      "7463  ZA-2018-TA11385146-41692 2018-02-22  2018-02-27 00:00:00   \n",
      "7464  CA-2017-JA15970140-41224 2017-11-11  2017-11-15 00:00:00   \n",
      "7465  ZA-2018-TS11205146-42062 2018-02-27  2018-03-03 00:00:00   \n",
      "\n",
      "           Ship Mode   Customer ID   Customer Name      Segment  \\\n",
      "0           Same Day    EB-4110138  Eugene Barchas     Consumer   \n",
      "1        First Class    TS-2134092   Toby Swindell     Consumer   \n",
      "2     Standard Class    MB-1808592      Mick Brown     Consumer   \n",
      "3     Standard Class      CL-25653     Clay Ludtke     Consumer   \n",
      "4        First Class  AB-100151404   Aaron Bergman     Consumer   \n",
      "...              ...           ...             ...          ...   \n",
      "7461    Second Class   BC-11125120   Becky Castell  Home Office   \n",
      "7462  Standard Class   TA-11385146    Tom Ashbrook  Home Office   \n",
      "7463  Standard Class   TA-11385146    Tom Ashbrook  Home Office   \n",
      "7464  Standard Class  JA-159701404    Joseph Airdo     Consumer   \n",
      "7465    Second Class   TS-11205146     Thomas Seio    Corporate   \n",
      "\n",
      "                City             State               Country  ...     Sales  \\\n",
      "0     Ras al Khaymah   Ra's Al Khaymah  United Arab Emirates  ...   224.748   \n",
      "1            Porirua        Wellington           New Zealand  ...  1822.080   \n",
      "2           Hamilton           Waikato           New Zealand  ...  5244.840   \n",
      "3              Saida             Saida               Algeria  ...   516.000   \n",
      "4            Seattle        Washington         United States  ...    48.712   \n",
      "...              ...               ...                   ...  ...       ...   \n",
      "7461      Ponferrada  Castile and León                 Spain  ...    65.784   \n",
      "7462          Lusaka            Lusaka                Zambia  ...  1743.960   \n",
      "7463          Lusaka            Lusaka                Zambia  ...   249.720   \n",
      "7464     Los Angeles        California         United States  ...   629.220   \n",
      "7465           Ndola        Copperbelt                Zambia  ...   337.920   \n",
      "\n",
      "     Quantity Discount    Profit Shipping Cost  Order Priority  \\\n",
      "0           6      0.7 -232.2720         60.08            High   \n",
      "1           4      0.0  564.8400        894.77        Critical   \n",
      "2           6      0.0  996.4800        878.38            High   \n",
      "3           4      0.0   61.9200         46.75            High   \n",
      "4           1      0.2    5.4801         11.13            High   \n",
      "...       ...      ...       ...           ...             ...   \n",
      "7461        1      0.2   18.8940          5.51          Medium   \n",
      "7462        4      0.0  714.9600        124.45            High   \n",
      "7463        2      0.0   97.3800         12.46            High   \n",
      "7464        3      0.2   31.4532         65.97            High   \n",
      "7465        4      0.0   16.8000         49.16          Medium   \n",
      "\n",
      "      IsFirstShopping  Rating  Customer Referrals  Complaint  \n",
      "0                   0       4                  18          0  \n",
      "1                   0       5                   0          0  \n",
      "2                   0       4                   0          0  \n",
      "3                   0       4                   0          0  \n",
      "4                   1       4                   4          0  \n",
      "...               ...     ...                 ...        ...  \n",
      "7461                1       3                   4          0  \n",
      "7462                0       4                   0          0  \n",
      "7463                1       4                   0          0  \n",
      "7464                0       4                   4          0  \n",
      "7465                0       3                   0          0  \n",
      "\n",
      "[7466 rows x 25 columns]\n"
     ]
    }
   ],
   "source": [
    "df = pd.read_excel(r'/Users/shirwetelfeel/Desktop/Data analysis /tasks/Data immersion/Achievment 6/Raw data/Furniture Superstore copy.xlsx')\n",
    "print(df)"
   ]
  },
  {
   "cell_type": "code",
   "execution_count": 13,
   "id": "491d84be",
   "metadata": {},
   "outputs": [
    {
     "data": {
      "text/html": [
       "<div>\n",
       "<style scoped>\n",
       "    .dataframe tbody tr th:only-of-type {\n",
       "        vertical-align: middle;\n",
       "    }\n",
       "\n",
       "    .dataframe tbody tr th {\n",
       "        vertical-align: top;\n",
       "    }\n",
       "\n",
       "    .dataframe thead th {\n",
       "        text-align: right;\n",
       "    }\n",
       "</style>\n",
       "<table border=\"1\" class=\"dataframe\">\n",
       "  <thead>\n",
       "    <tr style=\"text-align: right;\">\n",
       "      <th></th>\n",
       "      <th>Order ID</th>\n",
       "      <th>Order Date</th>\n",
       "      <th>Ship Date</th>\n",
       "      <th>Ship Mode</th>\n",
       "      <th>Customer ID</th>\n",
       "      <th>Customer Name</th>\n",
       "      <th>Segment</th>\n",
       "      <th>City</th>\n",
       "      <th>State</th>\n",
       "      <th>Country</th>\n",
       "      <th>...</th>\n",
       "      <th>Sales</th>\n",
       "      <th>Quantity</th>\n",
       "      <th>Discount</th>\n",
       "      <th>Profit</th>\n",
       "      <th>Shipping Cost</th>\n",
       "      <th>Order Priority</th>\n",
       "      <th>IsFirstShopping</th>\n",
       "      <th>Rating</th>\n",
       "      <th>Customer Referrals</th>\n",
       "      <th>Complaint</th>\n",
       "    </tr>\n",
       "  </thead>\n",
       "  <tbody>\n",
       "  </tbody>\n",
       "</table>\n",
       "<p>0 rows × 25 columns</p>\n",
       "</div>"
      ],
      "text/plain": [
       "Empty DataFrame\n",
       "Columns: [Order ID, Order Date, Ship Date, Ship Mode, Customer ID, Customer Name, Segment, City, State, Country, Region, Market, Product ID, Sub-Category, Product Name, Sales, Quantity, Discount, Profit, Shipping Cost, Order Priority, IsFirstShopping, Rating, Customer Referrals, Complaint]\n",
       "Index: []\n",
       "\n",
       "[0 rows x 25 columns]"
      ]
     },
     "execution_count": 13,
     "metadata": {},
     "output_type": "execute_result"
    }
   ],
   "source": [
    "df.tail(10)"
   ]
  },
  {
   "cell_type": "code",
   "execution_count": null,
   "id": "7f925198",
   "metadata": {},
   "outputs": [],
   "source": []
  }
 ],
 "metadata": {
  "kernelspec": {
   "display_name": "Python 3 (ipykernel)",
   "language": "python",
   "name": "python3"
  },
  "language_info": {
   "codemirror_mode": {
    "name": "ipython",
    "version": 3
   },
   "file_extension": ".py",
   "mimetype": "text/x-python",
   "name": "python",
   "nbconvert_exporter": "python",
   "pygments_lexer": "ipython3",
   "version": "3.9.13"
  }
 },
 "nbformat": 4,
 "nbformat_minor": 5
}
